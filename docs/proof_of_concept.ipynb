{
  "cells": [
    {
      "cell_type": "markdown",
      "source": "# This notebooks shows proof of concept of Behaiv\n\n### 0. Project idea\nIn this POC we\u0027ll use idea of score tracking e.g Todoist  \nOur client is a sportsmen and engineer.\n\nPerson will have different tracking lists:\n* Sport\n* Work\n* Food\n* Self-improvement\n\nClient\u0027s schedule:\n* 5:00 - wake up\n* 5:30 - Coffee time\n* 6:00-7:30 - Gym\n* 7:30 - Meditation\n* 8:00-18:00 work\n* 18:30 - Meditation\n* 19:00 - Jogging\n* 20:00 - Food\n* 21:00 - Sleep\n\nIdea is to construct model so that it\u0027ll fit his own targets.  \n### 1.Gathering data\nIn order to get enough data we\u0027ll be using modified version of [Chain of Responsibility Pattern](https://www.tutorialspoint.com/design_pattern/chain_of_responsibility_pattern.htm)\nIn this case we\u0027ll simulate opened screens + external factors such as \n",
      "metadata": {
        "pycharm": {
          "metadata": false,
          "name": "#%% md\n"
        }
      }
    },
    {
      "cell_type": "code",
      "execution_count": 66,
      "outputs": [
        {
          "data": {
            "text/plain": "   Open time   latitude  longitude  headset is on\n0        300  48.871591   2.310870              0\n1        310  48.871591   2.310870              0\n2        370  48.867474   2.333320              1\n3        450  48.871591   2.310870              1\n4        510  48.869740   2.309049              0",
            "text/html": "\u003cdiv\u003e\n\u003cstyle scoped\u003e\n    .dataframe tbody tr th:only-of-type {\n        vertical-align: middle;\n    }\n\n    .dataframe tbody tr th {\n        vertical-align: top;\n    }\n\n    .dataframe thead th {\n        text-align: right;\n    }\n\u003c/style\u003e\n\u003ctable border\u003d\"1\" class\u003d\"dataframe\"\u003e\n  \u003cthead\u003e\n    \u003ctr style\u003d\"text-align: right;\"\u003e\n      \u003cth\u003e\u003c/th\u003e\n      \u003cth\u003eOpen time\u003c/th\u003e\n      \u003cth\u003elatitude\u003c/th\u003e\n      \u003cth\u003elongitude\u003c/th\u003e\n      \u003cth\u003eheadset is on\u003c/th\u003e\n    \u003c/tr\u003e\n  \u003c/thead\u003e\n  \u003ctbody\u003e\n    \u003ctr\u003e\n      \u003cth\u003e0\u003c/th\u003e\n      \u003ctd\u003e300\u003c/td\u003e\n      \u003ctd\u003e48.871591\u003c/td\u003e\n      \u003ctd\u003e2.310870\u003c/td\u003e\n      \u003ctd\u003e0\u003c/td\u003e\n    \u003c/tr\u003e\n    \u003ctr\u003e\n      \u003cth\u003e1\u003c/th\u003e\n      \u003ctd\u003e310\u003c/td\u003e\n      \u003ctd\u003e48.871591\u003c/td\u003e\n      \u003ctd\u003e2.310870\u003c/td\u003e\n      \u003ctd\u003e0\u003c/td\u003e\n    \u003c/tr\u003e\n    \u003ctr\u003e\n      \u003cth\u003e2\u003c/th\u003e\n      \u003ctd\u003e370\u003c/td\u003e\n      \u003ctd\u003e48.867474\u003c/td\u003e\n      \u003ctd\u003e2.333320\u003c/td\u003e\n      \u003ctd\u003e1\u003c/td\u003e\n    \u003c/tr\u003e\n    \u003ctr\u003e\n      \u003cth\u003e3\u003c/th\u003e\n      \u003ctd\u003e450\u003c/td\u003e\n      \u003ctd\u003e48.871591\u003c/td\u003e\n      \u003ctd\u003e2.310870\u003c/td\u003e\n      \u003ctd\u003e1\u003c/td\u003e\n    \u003c/tr\u003e\n    \u003ctr\u003e\n      \u003cth\u003e4\u003c/th\u003e\n      \u003ctd\u003e510\u003c/td\u003e\n      \u003ctd\u003e48.869740\u003c/td\u003e\n      \u003ctd\u003e2.309049\u003c/td\u003e\n      \u003ctd\u003e0\u003c/td\u003e\n    \u003c/tr\u003e\n  \u003c/tbody\u003e\n\u003c/table\u003e\n\u003c/div\u003e"
          },
          "metadata": {},
          "output_type": "execute_result",
          "execution_count": 66
        }
      ],
      "source": "\nfrom datetime import time\nimport numpy as np\nimport pandas as pd\nfrom sklearn import linear_model\n\nHOME \u003d [48.871591, 2.310870]\nGYM \u003d [48.867474, 2.333320]\nWORK \u003d [48.869740, 2.309049]\nJOG \u003d [48.869266, 2.311993]\n\n# Simulates opening of app\nfeatures \u003d [\n    #[open time, latitude, longitude, headset_on]\n    [time(5,00), HOME[0], HOME[1], 0],\n    [time(5,10), HOME[0], HOME[1], 0],\n    [time(6,10), GYM[0], GYM[1], 1],\n    [time(7,30), HOME[0], HOME[1], 1],   \n    [time(8,30), WORK[0], WORK[1], 0],\n    [time(10,30), WORK[0], WORK[1], 1],\n    [time(11,30), WORK[0], WORK[1], 1],\n    [time(16,30), WORK[0], WORK[1], 0],\n    [time(17,10), WORK[0], WORK[1], 0],\n    [time(18,50), WORK[0], WORK[1], 0],\n    [time(19,5), JOG[0], JOG[1], 1],\n    [time(19,10), JOG[0],JOG[1], 1],\n    [time(19,25), JOG[0],JOG[1], 1],\n    [time(21,00), HOME[0],HOME[1], 0]    \n]\n\nfeatures \u003d pd.DataFrame(features, columns\u003d[\"Open time\", \"latitude\", \"longitude\",\"headset is on\"])\nfeatures[\u0027Open time\u0027] \u003d features[\u0027Open time\u0027].apply(lambda t: (t.hour * 60) + t.minute)\n\nfeatures.head()",
      "metadata": {
        "pycharm": {
          "metadata": false,
          "name": "#%% python\n",
          "is_executing": false
        }
      }
    },
    {
      "cell_type": "code",
      "execution_count": 67,
      "outputs": [
        {
          "data": {
            "text/plain": "   Add new task Screen  Self-improvement Screen  Sport Screen  Work Screen\n0                    0                        1             0            0\n1                    0                        1             0            0\n2                    0                        0             1            0\n3                    0                        1             0            0\n4                    0                        0             0            1",
            "text/html": "\u003cdiv\u003e\n\u003cstyle scoped\u003e\n    .dataframe tbody tr th:only-of-type {\n        vertical-align: middle;\n    }\n\n    .dataframe tbody tr th {\n        vertical-align: top;\n    }\n\n    .dataframe thead th {\n        text-align: right;\n    }\n\u003c/style\u003e\n\u003ctable border\u003d\"1\" class\u003d\"dataframe\"\u003e\n  \u003cthead\u003e\n    \u003ctr style\u003d\"text-align: right;\"\u003e\n      \u003cth\u003e\u003c/th\u003e\n      \u003cth\u003eAdd new task Screen\u003c/th\u003e\n      \u003cth\u003eSelf-improvement Screen\u003c/th\u003e\n      \u003cth\u003eSport Screen\u003c/th\u003e\n      \u003cth\u003eWork Screen\u003c/th\u003e\n    \u003c/tr\u003e\n  \u003c/thead\u003e\n  \u003ctbody\u003e\n    \u003ctr\u003e\n      \u003cth\u003e0\u003c/th\u003e\n      \u003ctd\u003e0\u003c/td\u003e\n      \u003ctd\u003e1\u003c/td\u003e\n      \u003ctd\u003e0\u003c/td\u003e\n      \u003ctd\u003e0\u003c/td\u003e\n    \u003c/tr\u003e\n    \u003ctr\u003e\n      \u003cth\u003e1\u003c/th\u003e\n      \u003ctd\u003e0\u003c/td\u003e\n      \u003ctd\u003e1\u003c/td\u003e\n      \u003ctd\u003e0\u003c/td\u003e\n      \u003ctd\u003e0\u003c/td\u003e\n    \u003c/tr\u003e\n    \u003ctr\u003e\n      \u003cth\u003e2\u003c/th\u003e\n      \u003ctd\u003e0\u003c/td\u003e\n      \u003ctd\u003e0\u003c/td\u003e\n      \u003ctd\u003e1\u003c/td\u003e\n      \u003ctd\u003e0\u003c/td\u003e\n    \u003c/tr\u003e\n    \u003ctr\u003e\n      \u003cth\u003e3\u003c/th\u003e\n      \u003ctd\u003e0\u003c/td\u003e\n      \u003ctd\u003e1\u003c/td\u003e\n      \u003ctd\u003e0\u003c/td\u003e\n      \u003ctd\u003e0\u003c/td\u003e\n    \u003c/tr\u003e\n    \u003ctr\u003e\n      \u003cth\u003e4\u003c/th\u003e\n      \u003ctd\u003e0\u003c/td\u003e\n      \u003ctd\u003e0\u003c/td\u003e\n      \u003ctd\u003e0\u003c/td\u003e\n      \u003ctd\u003e1\u003c/td\u003e\n    \u003c/tr\u003e\n  \u003c/tbody\u003e\n\u003c/table\u003e\n\u003c/div\u003e"
          },
          "metadata": {},
          "output_type": "execute_result",
          "execution_count": 67
        }
      ],
      "source": "SPORT_SCREEN \u003d \u0027Sport Screen\u0027\nWORK_SCREEN \u003d \u0027Work Screen\u0027\nFOOD_SCREEN \u003d \u0027Food Screen\u0027\nSELFIMPROVEMENT_SCREEN \u003d \u0027Self-improvement Screen\u0027\nADD_SCREEN \u003d \u0027Add new task Screen\u0027\n\nlabels \u003d [SELFIMPROVEMENT_SCREEN,\n          SELFIMPROVEMENT_SCREEN,\n          SPORT_SCREEN,\n          SELFIMPROVEMENT_SCREEN,\n          WORK_SCREEN,\n          WORK_SCREEN,\n          WORK_SCREEN,\n          WORK_SCREEN,\n          WORK_SCREEN,\n          WORK_SCREEN,\n          SPORT_SCREEN,\n          SPORT_SCREEN,\n          SPORT_SCREEN,\n          ADD_SCREEN\n          ]\n#one hot encoding\nlabels \u003d pd.get_dummies(labels)\n\nlabel_names \u003d labels.columns.values\nlabels.head()",
      "metadata": {
        "pycharm": {
          "metadata": false,
          "name": "#%%\n",
          "is_executing": false
        }
      }
    },
    {
      "cell_type": "code",
      "execution_count": 68,
      "outputs": [
        {
          "data": {
            "text/plain": "   Add new task Screen  Self-improvement Screen  Sport Screen  Work Screen\n0             0.017265                -0.010301      0.061578     0.931458",
            "text/html": "\u003cdiv\u003e\n\u003cstyle scoped\u003e\n    .dataframe tbody tr th:only-of-type {\n        vertical-align: middle;\n    }\n\n    .dataframe tbody tr th {\n        vertical-align: top;\n    }\n\n    .dataframe thead th {\n        text-align: right;\n    }\n\u003c/style\u003e\n\u003ctable border\u003d\"1\" class\u003d\"dataframe\"\u003e\n  \u003cthead\u003e\n    \u003ctr style\u003d\"text-align: right;\"\u003e\n      \u003cth\u003e\u003c/th\u003e\n      \u003cth\u003eAdd new task Screen\u003c/th\u003e\n      \u003cth\u003eSelf-improvement Screen\u003c/th\u003e\n      \u003cth\u003eSport Screen\u003c/th\u003e\n      \u003cth\u003eWork Screen\u003c/th\u003e\n    \u003c/tr\u003e\n  \u003c/thead\u003e\n  \u003ctbody\u003e\n    \u003ctr\u003e\n      \u003cth\u003e0\u003c/th\u003e\n      \u003ctd\u003e0.017265\u003c/td\u003e\n      \u003ctd\u003e-0.010301\u003c/td\u003e\n      \u003ctd\u003e0.061578\u003c/td\u003e\n      \u003ctd\u003e0.931458\u003c/td\u003e\n    \u003c/tr\u003e\n  \u003c/tbody\u003e\n\u003c/table\u003e\n\u003c/div\u003e"
          },
          "metadata": {},
          "output_type": "execute_result",
          "execution_count": 68
        }
      ],
      "source": "ols \u003d linear_model.LinearRegression()\nmodel \u003d ols.fit(features, labels)\n\ntest_feature \u003d [\n    [time(15,00), WORK[0], WORK[1], 0]\n]\n\ntest_feature \u003d pd.DataFrame(test_feature, columns\u003d[\"Open time\", \"latitude\", \"longitude\",\"headset is on\"])\ntest_feature[\u0027Open time\u0027] \u003d test_feature[\u0027Open time\u0027].apply(lambda t: (t.hour * 60) + t.minute)\n\n\n# What will we open at 15:00 at work without headphones?\nresult \u003d model.predict(test_feature)\npd.DataFrame(result, columns\u003dlabel_names)\n",
      "metadata": {
        "pycharm": {
          "metadata": false,
          "name": "#%%\n",
          "is_executing": false
        }
      }
    },
    {
      "cell_type": "markdown",
      "source": "As expected, when we\u0027re at work we predict that user will open work screen\n\nLet\u0027s try another example ",
      "metadata": {
        "pycharm": {
          "metadata": false,
          "name": "#%% md\n",
          "is_executing": false
        }
      }
    },
    {
      "cell_type": "code",
      "execution_count": 69,
      "outputs": [
        {
          "data": {
            "text/plain": "   Add new task Screen  Self-improvement Screen  Sport Screen  Work Screen\n0            -0.035641                -0.451777      0.906539      0.58088",
            "text/html": "\u003cdiv\u003e\n\u003cstyle scoped\u003e\n    .dataframe tbody tr th:only-of-type {\n        vertical-align: middle;\n    }\n\n    .dataframe tbody tr th {\n        vertical-align: top;\n    }\n\n    .dataframe thead th {\n        text-align: right;\n    }\n\u003c/style\u003e\n\u003ctable border\u003d\"1\" class\u003d\"dataframe\"\u003e\n  \u003cthead\u003e\n    \u003ctr style\u003d\"text-align: right;\"\u003e\n      \u003cth\u003e\u003c/th\u003e\n      \u003cth\u003eAdd new task Screen\u003c/th\u003e\n      \u003cth\u003eSelf-improvement Screen\u003c/th\u003e\n      \u003cth\u003eSport Screen\u003c/th\u003e\n      \u003cth\u003eWork Screen\u003c/th\u003e\n    \u003c/tr\u003e\n  \u003c/thead\u003e\n  \u003ctbody\u003e\n    \u003ctr\u003e\n      \u003cth\u003e0\u003c/th\u003e\n      \u003ctd\u003e-0.035641\u003c/td\u003e\n      \u003ctd\u003e-0.451777\u003c/td\u003e\n      \u003ctd\u003e0.906539\u003c/td\u003e\n      \u003ctd\u003e0.58088\u003c/td\u003e\n    \u003c/tr\u003e\n  \u003c/tbody\u003e\n\u003c/table\u003e\n\u003c/div\u003e"
          },
          "metadata": {},
          "output_type": "execute_result",
          "execution_count": 69
        }
      ],
      "source": "\n# we use different position(simulate running)\ntest_feature \u003d [\n    [time(19,15), 48.867939, 2.316413, 1]\n]\n\ntest_feature \u003d pd.DataFrame(test_feature, columns\u003d[\"Open time\", \"latitude\", \"longitude\",\"headset is on\"])\ntest_feature[\u0027Open time\u0027] \u003d test_feature[\u0027Open time\u0027].apply(lambda t: (t.hour * 60) + t.minute)\n\n\n# What will we open at 19:15 at JOG place with headphones?\nresult \u003d model.predict(test_feature)\npd.DataFrame(result, columns\u003dlabel_names)\n",
      "metadata": {
        "pycharm": {
          "metadata": false,
          "name": "#%%\n",
          "is_executing": false
        }
      }
    },
    {
      "cell_type": "markdown",
      "source": "Just as expected, even when we have different position we should open sport screen\nLet\u0027s try one more example ",
      "metadata": {
        "pycharm": {
          "metadata": false,
          "name": "#%% md\n",
          "is_executing": false
        }
      }
    },
    {
      "cell_type": "code",
      "execution_count": 71,
      "outputs": [
        {
          "data": {
            "text/plain": "   Add new task Screen  Self-improvement Screen  Sport Screen  Work Screen\n0             0.672095                 0.356278      0.250886    -0.279259",
            "text/html": "\u003cdiv\u003e\n\u003cstyle scoped\u003e\n    .dataframe tbody tr th:only-of-type {\n        vertical-align: middle;\n    }\n\n    .dataframe tbody tr th {\n        vertical-align: top;\n    }\n\n    .dataframe thead th {\n        text-align: right;\n    }\n\u003c/style\u003e\n\u003ctable border\u003d\"1\" class\u003d\"dataframe\"\u003e\n  \u003cthead\u003e\n    \u003ctr style\u003d\"text-align: right;\"\u003e\n      \u003cth\u003e\u003c/th\u003e\n      \u003cth\u003eAdd new task Screen\u003c/th\u003e\n      \u003cth\u003eSelf-improvement Screen\u003c/th\u003e\n      \u003cth\u003eSport Screen\u003c/th\u003e\n      \u003cth\u003eWork Screen\u003c/th\u003e\n    \u003c/tr\u003e\n  \u003c/thead\u003e\n  \u003ctbody\u003e\n    \u003ctr\u003e\n      \u003cth\u003e0\u003c/th\u003e\n      \u003ctd\u003e0.672095\u003c/td\u003e\n      \u003ctd\u003e0.356278\u003c/td\u003e\n      \u003ctd\u003e0.250886\u003c/td\u003e\n      \u003ctd\u003e-0.279259\u003c/td\u003e\n    \u003c/tr\u003e\n  \u003c/tbody\u003e\n\u003c/table\u003e\n\u003c/div\u003e"
          },
          "metadata": {},
          "output_type": "execute_result",
          "execution_count": 71
        }
      ],
      "source": "test_feature \u003d [\n    [time(21,10), HOME[0], HOME[1], 0]\n]\n\ntest_feature \u003d pd.DataFrame(test_feature, columns\u003d[\"Open time\", \"latitude\", \"longitude\",\"headset is on\"])\ntest_feature[\u0027Open time\u0027] \u003d test_feature[\u0027Open time\u0027].apply(lambda t: (t.hour * 60) + t.minute)\n\n\n# What will we open at 21:10 at HOME place without headphones?\nresult \u003d model.predict(test_feature)\npd.DataFrame(result, columns\u003dlabel_names)",
      "metadata": {
        "pycharm": {
          "metadata": false,
          "name": "#%%\n",
          "is_executing": false
        }
      }
    },
    {
      "cell_type": "markdown",
      "source": "As expected, we should open add new task screen at the end of a day\n\n### Final notes\nThis model is just a proof of concept, optimisation and code quality is not as expected in final on-device model. \nExpected to have more features and more examples. But even with 14 examples we can build working \nmodel that can be used later on.\n\nSadly headphones param has large bias so if we put it to true it will increase Sport Screen size.\n",
      "metadata": {
        "pycharm": {
          "metadata": false,
          "name": "#%% md\n"
        }
      }
    }
  ],
  "metadata": {
    "language_info": {
      "codemirror_mode": {
        "name": "ipython",
        "version": 2
      },
      "file_extension": ".py",
      "mimetype": "text/x-python",
      "name": "python",
      "nbconvert_exporter": "python",
      "pygments_lexer": "ipython2",
      "version": "2.7.6"
    },
    "kernelspec": {
      "name": "pycharm-2463ad06",
      "language": "python",
      "display_name": "PyCharm (behaiv)"
    },
    "stem_cell": {
      "cell_type": "raw",
      "source": "",
      "metadata": {
        "pycharm": {
          "metadata": false
        }
      }
    }
  },
  "nbformat": 4,
  "nbformat_minor": 0
}